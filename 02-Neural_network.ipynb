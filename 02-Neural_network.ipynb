{
 "cells": [
  {
   "cell_type": "markdown",
   "id": "8a8744a8-6df1-4ef9-b7b6-4fb48d7aa595",
   "metadata": {},
   "source": [
    "### Import libraries"
   ]
  },
  {
   "cell_type": "code",
   "execution_count": 1,
   "id": "3ad32202-a19c-4bc9-a192-1a48f415760a",
   "metadata": {
    "tags": []
   },
   "outputs": [
    {
     "name": "stderr",
     "output_type": "stream",
     "text": [
      "2023-04-03 00:00:30.224080: I tensorflow/tsl/cuda/cudart_stub.cc:28] Could not find cuda drivers on your machine, GPU will not be used.\n",
      "2023-04-03 00:00:30.263458: I tensorflow/tsl/cuda/cudart_stub.cc:28] Could not find cuda drivers on your machine, GPU will not be used.\n",
      "2023-04-03 00:00:30.264397: I tensorflow/core/platform/cpu_feature_guard.cc:182] This TensorFlow binary is optimized to use available CPU instructions in performance-critical operations.\n",
      "To enable the following instructions: AVX2 FMA, in other operations, rebuild TensorFlow with the appropriate compiler flags.\n",
      "2023-04-03 00:00:30.869184: W tensorflow/compiler/tf2tensorrt/utils/py_utils.cc:38] TF-TRT Warning: Could not find TensorRT\n"
     ]
    }
   ],
   "source": [
    "import pandas as pd\n",
    "import numpy as np\n",
    "import matplotlib.pyplot as plt\n",
    "import seaborn as sns\n",
    "from sklearn.model_selection import train_test_split\n",
    "from sklearn.ensemble import HistGradientBoostingClassifier\n",
    "from sklearn.metrics import precision_score, f1_score, confusion_matrix, classification_report\n",
    "from sklearn.preprocessing import StandardScaler\n",
    "import keras\n",
    "import keras_tuner\n",
    "from keras.layers import Dense, Dropout, Flatten\n",
    "from keras.metrics import FalseNegatives, FalsePositives, TrueNegatives, TruePositives, Precision, Recall\n",
    "from keras.optimizers import Adam\n",
    "from keras.callbacks import EarlyStopping, TensorBoard\n",
    "import warnings\n",
    "\n",
    "pd.set_option('display.max_columns', None)\n",
    "warnings.simplefilter('ignore')\n",
    "seed = 42\n",
    "\n",
    "%load_ext tensorboard\n",
    "LOGS_DIR = 'logs_tb'"
   ]
  },
  {
   "cell_type": "code",
   "execution_count": 2,
   "id": "8203d093-137b-4983-a94d-297b8239ea8c",
   "metadata": {
    "tags": []
   },
   "outputs": [],
   "source": [
    "# Tensorboard can be used to debug neural networks, if desired just uncomment commented cells in this notebook\n",
    "# Clear logs of previous runs\n",
    "#!rm -rf LOGS_DIR"
   ]
  },
  {
   "cell_type": "code",
   "execution_count": 3,
   "id": "0a28f557-66ea-41c4-bc5e-055f89240d31",
   "metadata": {
    "tags": []
   },
   "outputs": [],
   "source": [
    "data = pd.read_csv('data/base_dataset.csv')"
   ]
  },
  {
   "cell_type": "code",
   "execution_count": 4,
   "id": "bda20c0a-423a-4dc9-88e4-db9acbb6cc16",
   "metadata": {
    "tags": []
   },
   "outputs": [
    {
     "data": {
      "text/plain": [
       "(3333, 75)"
      ]
     },
     "execution_count": 4,
     "metadata": {},
     "output_type": "execute_result"
    }
   ],
   "source": [
    "data.shape"
   ]
  },
  {
   "cell_type": "markdown",
   "id": "7fd804a2-c0e6-4bbc-950d-7490dabfd546",
   "metadata": {},
   "source": [
    "### Train/CV/Test split"
   ]
  },
  {
   "cell_type": "markdown",
   "id": "b94e6f39-edac-4a06-b880-a65fb3d32448",
   "metadata": {},
   "source": [
    "I'll split the data with the standard 60/20/20 split for training, cross-validation and test. Since this is not a time-series problem I can use random sampling, I'll just make sure that the target distribution is the same across the different samples, using the `stratify` option. I'll also use a fixed random_state for reproducibility."
   ]
  },
  {
   "cell_type": "code",
   "execution_count": 5,
   "id": "f388c45a-2861-4d3b-bb26-ffc08e372933",
   "metadata": {
    "tags": []
   },
   "outputs": [],
   "source": [
    "X = data.drop('Churn', axis=1)\n",
    "y = data['Churn']"
   ]
  },
  {
   "cell_type": "code",
   "execution_count": 6,
   "id": "27683720-631a-47df-90da-2ec2b4593dcb",
   "metadata": {
    "tags": []
   },
   "outputs": [],
   "source": [
    "X_train, X_test, y_train, y_test = train_test_split(X, y, test_size=.2, random_state=seed, stratify=y)\n",
    "X_train, X_cv, y_train, y_cv = train_test_split(X_train, y_train, test_size=.2, random_state=seed, stratify=y_train)"
   ]
  },
  {
   "cell_type": "code",
   "execution_count": 7,
   "id": "1fea5af9-dc3a-475a-a474-8e6d8275ab33",
   "metadata": {
    "tags": []
   },
   "outputs": [],
   "source": [
    "y_train = np.array(y_train)\n",
    "y_cv = np.array(y_cv)\n",
    "y_test = np.array(y_test)"
   ]
  },
  {
   "cell_type": "markdown",
   "id": "9cf888a2-f786-4a61-a898-02f87b8ff5fa",
   "metadata": {
    "tags": []
   },
   "source": [
    "### Additional dataset processing for Neural Networks"
   ]
  },
  {
   "cell_type": "markdown",
   "id": "9041f6a6-57da-45a0-b7cc-69b6e197a702",
   "metadata": {
    "tags": []
   },
   "source": [
    "A common approach to effectively process a dataset for modelling with a Neural Networks is to rescale the features to have zero mean and unit variance, which can be done using a StandardScaler. \\\n",
    "If the data had some outliers left from the previous preprocessing steps, a RobustScaler could be used instead which is not impacted by outliers as it achieves the same goal as the StandardScaler using median and interquartile ranges, instead of the more direct mean of all values. \\\n",
    "An additional step to increase the effectiveness of the scaling is to reduce the range of the features that have a long-tail distribution using a log transform, although this is not required in the present case."
   ]
  },
  {
   "cell_type": "code",
   "execution_count": 8,
   "id": "6e76553d-1430-4296-89ad-ee5a9f41f327",
   "metadata": {
    "tags": []
   },
   "outputs": [],
   "source": [
    "scl = StandardScaler()"
   ]
  },
  {
   "cell_type": "markdown",
   "id": "769d89e7-ff63-450d-9057-1c630f0750bc",
   "metadata": {},
   "source": [
    "The scaler must be fit only on training data, to preserve the datasets separation"
   ]
  },
  {
   "cell_type": "code",
   "execution_count": 9,
   "id": "4277ca54-60f8-4328-b464-ba44526fe56d",
   "metadata": {},
   "outputs": [],
   "source": [
    "X_train = scl.fit_transform(X_train)\n",
    "X_cv = scl.transform(X_cv)\n",
    "X_test = scl.transform(X_test)"
   ]
  },
  {
   "cell_type": "markdown",
   "id": "327f2b51-a1b6-4214-9121-49bde5e4c59c",
   "metadata": {
    "tags": []
   },
   "source": [
    "### Repeat the same steps for the oversampled dataset"
   ]
  },
  {
   "cell_type": "code",
   "execution_count": 10,
   "id": "18214bb0-a019-4a1c-8375-1a536aff0615",
   "metadata": {
    "tags": []
   },
   "outputs": [],
   "source": [
    "data_sm = pd.read_csv('data/base_dataset_smote.csv')\n",
    "\n",
    "X_sm = data_sm.drop('Churn', axis=1)\n",
    "y_sm = data_sm['Churn']\n",
    "\n",
    "X_train_sm, X_test_sm, y_train_sm, y_test_sm = train_test_split(X_sm, y_sm, test_size=.2, random_state=seed, stratify=y_sm)\n",
    "X_train_sm, X_cv_sm, y_train_sm, y_cv_sm = train_test_split(X_train_sm, y_train_sm, test_size=.2, random_state=seed, stratify=y_train_sm)\n",
    "\n",
    "y_train_sm = np.array(y_train_sm)\n",
    "y_cv_sm = np.array(y_cv_sm)\n",
    "y_test_sm = np.array(y_test_sm)\n",
    "\n",
    "scl_sm = StandardScaler()\n",
    "\n",
    "X_train_sm = scl_sm.fit_transform(X_train_sm)\n",
    "X_cv_sm = scl_sm.transform(X_cv_sm)\n",
    "X_test_sm = scl_sm.transform(X_test_sm)"
   ]
  },
  {
   "cell_type": "markdown",
   "id": "09cfaee0-f8b9-4ba1-af6b-b816d1e0081f",
   "metadata": {},
   "source": [
    "### Build a first NN"
   ]
  },
  {
   "cell_type": "markdown",
   "id": "e366ead6-4f2f-4ae2-8e99-9aaa09774526",
   "metadata": {},
   "source": [
    "Let's build a first fully connected Neural Network to check how it performs on the current task and have a reference value. \\\n",
    "There is no optimal configuration one can start with, the best approach is to test different configurations and assess the best performer. This can be tricky because NNs can be very complex and training by trial and error be very time consuming, even on a small dataset like the one at hand. \\\n",
    "Generally speaking, there are a few things to keep in mind:\n",
    "* Three hidden layers are the minimum number demonstrated to be capable of learning any decision boundary\n",
    "* Activation functions of the dense layer: relu provides the best performance at the minimum computational cost, leaky relu can be an alternative\n",
    "* Activation functions of the output layer: sigmoid is used for classification problems\n",
    "* Initial weigts of layers should be set carefully for the NN to converge, in particular they should not be simmetric. Luckily Keras deals with this under the hood, assigning the Glorot uniform initializer by default\n",
    "* The dataset is imbalanced, applying weights to the model (that will be in the output layer) is not strictly necessary but helps converging much faster\n",
    "* Vanishing/exploding gradients\n",
    "* Dropout layers are a form of regularization that drops a certain percentage of the nodes at random, helping reducing variance and faster convergence\n",
    "* Optimizer: Adam is stochastic gradient descent algorithm and a common choice, it controls the learning rate of the NN\n",
    "* Loss: Objective function to be minimized, binary crossentropy (also log loss) is a standard function for binary classification\n",
    "* Metrics: These will be calculated at runtime for each epoch, but it's the loss that drives the training\n",
    "* CV: a cross validation set to assess the loss and the metrics at training time to effectively avoid overfitting. It's also important to use CV here instead of the test set, because otherwise there is the risk of overfitting to the test set, reducing the validity of the final metrics on that set  \n",
    "* Early stopping: Stops the training when the selected funcion doesn't improve over a certain amount of time. This helps saving training time and overfitting\n",
    "* Batch size: can be any number, but it's much faster if it's a power of 2."
   ]
  },
  {
   "cell_type": "code",
   "execution_count": 11,
   "id": "6c66564e-ecd5-4b64-a12b-5fdcd54f1d8f",
   "metadata": {
    "tags": []
   },
   "outputs": [],
   "source": [
    "model = keras.Sequential()\n",
    "model.add(Dense(128,activation='relu'))\n",
    "model.add(Dropout(.3))\n",
    "model.add(Dense(128,activation='relu'))\n",
    "model.add(Dropout(.3))\n",
    "model.add(Dense(128,activation='relu'))\n",
    "model.add(Dropout(.3))\n",
    "model.add(Dense(1,activation='sigmoid'))\n",
    "\n",
    "metrics = ['acc', Precision(name='precision'), Recall(name='recall')]\n",
    "\n",
    "model.compile(loss='binary_crossentropy', optimizer='adam', metrics=metrics)\n",
    "\n",
    "callbacks = [EarlyStopping(monitor='val_loss', patience=10), TensorBoard(LOGS_DIR)]\n",
    "\n",
    "counts = np.bincount(y_train)\n",
    "w_0 = 1.0 / counts[0]\n",
    "w_1 = 1.0 / counts[1]\n",
    "class_weight = {0: w_0, 1: w_1}"
   ]
  },
  {
   "cell_type": "code",
   "execution_count": 12,
   "id": "8499f9fc-54b2-486c-adb0-63b27d5e14fb",
   "metadata": {},
   "outputs": [
    {
     "name": "stdout",
     "output_type": "stream",
     "text": [
      "CPU times: user 6.66 s, sys: 618 ms, total: 7.28 s\n",
      "Wall time: 4.43 s\n"
     ]
    }
   ],
   "source": [
    "%%time\n",
    "history = model.fit(\n",
    "    X_train,\n",
    "    y_train,\n",
    "    batch_size=128,\n",
    "    epochs=100,\n",
    "    verbose=0,\n",
    "    callbacks=callbacks,\n",
    "    validation_data=(X_cv, y_cv),\n",
    "    class_weight=class_weight,\n",
    "    use_multiprocessing=True)"
   ]
  },
  {
   "cell_type": "code",
   "execution_count": 13,
   "id": "dcbb4d44-9144-424d-a597-fc2e1eee643d",
   "metadata": {
    "tags": []
   },
   "outputs": [],
   "source": [
    "#%tensorboard --logdir LOGS_DIR"
   ]
  },
  {
   "cell_type": "code",
   "execution_count": 14,
   "id": "c73e88b0-8ab9-41e6-aa63-d528b980c510",
   "metadata": {
    "tags": []
   },
   "outputs": [
    {
     "data": {
      "image/png": "[encoded data removed]",
      "text/plain": [
       "<Figure size 500x300 with 1 Axes>"
      ]
     },
     "metadata": {},
     "output_type": "display_data"
    },
    {
     "data": {
      "image/png": "[encoded data removed]",
      "text/plain": [
       "<Figure size 500x300 with 1 Axes>"
      ]
     },
     "metadata": {},
     "output_type": "display_data"
    },
    {
     "data": {
      "image/png": "[encoded data removed]",
      "text/plain": [
       "<Figure size 500x300 with 1 Axes>"
      ]
     },
     "metadata": {},
     "output_type": "display_data"
    }
   ],
   "source": [
    "metric_list = ['loss', 'precision', 'recall']\n",
    "for m in metric_list:\n",
    "    plt.figure(figsize=(5, 3))\n",
    "    plt.plot(history.epoch, history.history[m], label='Train')\n",
    "    plt.plot(history.epoch, history.history['val_'+m], label='Val')\n",
    "    if m == 'loss': plt.yscale('log')\n",
    "    plt.xlabel('Epoch')\n",
    "    plt.ylabel(m)\n",
    "    plt.legend();"
   ]
  },
  {
   "cell_type": "code",
   "execution_count": 15,
   "id": "46e71081-3bed-49cb-ab73-441c786f4b6c",
   "metadata": {
    "tags": []
   },
   "outputs": [
    {
     "name": "stdout",
     "output_type": "stream",
     "text": [
      "6/6 [==============================] - 0s 2ms/step - loss: 0.3985 - acc: 0.8426 - precision: 0.4710 - recall: 0.6701\n"
     ]
    }
   ],
   "source": [
    "results = model.evaluate(X_test, y_test, batch_size=128)"
   ]
  },
  {
   "cell_type": "markdown",
   "id": "134e8641-1e94-406a-a914-775132bac09b",
   "metadata": {},
   "source": [
    "#### Comment"
   ]
  },
  {
   "cell_type": "markdown",
   "id": "7e9b7676-de08-48ed-af7e-31395c033fd6",
   "metadata": {},
   "source": [
    "The perfomance of this NN is way below the baseline found with the Gradient Boosting Classifier. It's not learning accurately and at the same time it stops after only 35 epochs, so the first steps I would take are to increase the complexity of the network and decrease the learning rate."
   ]
  },
  {
   "cell_type": "markdown",
   "id": "85ef5164-d847-47a8-8530-ec33c6e4a3f7",
   "metadata": {
    "tags": []
   },
   "source": [
    "### Test the same NN on the oversampled dataset"
   ]
  },
  {
   "cell_type": "code",
   "execution_count": 16,
   "id": "4c22f9af-c853-4594-a7e4-858be0dcf445",
   "metadata": {
    "tags": []
   },
   "outputs": [],
   "source": [
    "model_sm = keras.Sequential()\n",
    "model_sm.add(Dense(128,activation='relu'))\n",
    "model_sm.add(Dropout(.3))\n",
    "model_sm.add(Dense(128,activation='relu'))\n",
    "model_sm.add(Dropout(.3))\n",
    "model_sm.add(Dense(128,activation='relu'))\n",
    "model_sm.add(Dropout(.3))\n",
    "model_sm.add(Dense(1,activation='sigmoid'))\n",
    "\n",
    "metrics = ['acc', Precision(name='precision'), Recall(name='recall')]\n",
    "\n",
    "model_sm.compile(loss='binary_crossentropy', optimizer='adam', metrics=metrics)\n",
    "\n",
    "callbacks = [EarlyStopping(monitor='val_loss', patience=10), TensorBoard(LOGS_DIR)]"
   ]
  },
  {
   "cell_type": "code",
   "execution_count": 17,
   "id": "95f7dce8-f150-4df7-a910-523db86773b4",
   "metadata": {
    "tags": []
   },
   "outputs": [
    {
     "name": "stdout",
     "output_type": "stream",
     "text": [
      "CPU times: user 8.79 s, sys: 758 ms, total: 9.55 s\n",
      "Wall time: 5.4 s\n"
     ]
    }
   ],
   "source": [
    "%%time\n",
    "history_sm = model_sm.fit(\n",
    "    X_train_sm,\n",
    "    y_train_sm,\n",
    "    batch_size=128,\n",
    "    epochs=100,\n",
    "    verbose=0,\n",
    "    callbacks=callbacks,\n",
    "    validation_data=(X_cv_sm, y_cv_sm),\n",
    "    use_multiprocessing=True)"
   ]
  },
  {
   "cell_type": "code",
   "execution_count": 18,
   "id": "050adb63-09b4-465c-a17e-f825468b99fa",
   "metadata": {
    "tags": []
   },
   "outputs": [],
   "source": [
    "#%tensorboard --logdir LOGS_DIR"
   ]
  },
  {
   "cell_type": "code",
   "execution_count": 19,
   "id": "87a977ff-f996-4de8-b903-c0f449a3796d",
   "metadata": {
    "tags": []
   },
   "outputs": [
    {
     "data": {
      "image/png": "[encoded data removed]",
      "text/plain": [
       "<Figure size 500x300 with 1 Axes>"
      ]
     },
     "metadata": {},
     "output_type": "display_data"
    },
    {
     "data": {
      "image/png": "[encoded data removed]",
      "text/plain": [
       "<Figure size 500x300 with 1 Axes>"
      ]
     },
     "metadata": {},
     "output_type": "display_data"
    },
    {
     "data": {
      "image/png": "[encoded data removed]",
      "text/plain": [
       "<Figure size 500x300 with 1 Axes>"
      ]
     },
     "metadata": {},
     "output_type": "display_data"
    }
   ],
   "source": [
    "metric_list = ['loss', 'precision', 'recall']\n",
    "for m in metric_list:\n",
    "    plt.figure(figsize=(5, 3))\n",
    "    plt.plot(history_sm.epoch, history_sm.history[m], label='Train')\n",
    "    plt.plot(history_sm.epoch, history_sm.history['val_'+m], label='Val')\n",
    "    if m == 'loss': plt.yscale('log')\n",
    "    plt.xlabel('Epoch')\n",
    "    plt.ylabel(m)\n",
    "    plt.legend();"
   ]
  },
  {
   "cell_type": "code",
   "execution_count": 20,
   "id": "a0f40bb5-b40e-4235-9019-eb759a70bbef",
   "metadata": {
    "tags": []
   },
   "outputs": [
    {
     "name": "stdout",
     "output_type": "stream",
     "text": [
      "9/9 [==============================] - 0s 2ms/step - loss: 0.4485 - acc: 0.8360 - precision: 0.9303 - recall: 0.7263\n"
     ]
    }
   ],
   "source": [
    "results = model.evaluate(X_test_sm, y_test_sm, batch_size=128)"
   ]
  },
  {
   "cell_type": "markdown",
   "id": "4321e047-a862-4ed5-8208-9341781b89ec",
   "metadata": {},
   "source": [
    "#### Comment"
   ]
  },
  {
   "cell_type": "markdown",
   "id": "2d55e886-70fc-40d5-a2d2-b22797efe01f",
   "metadata": {},
   "source": [
    "The same NN has much higher performance with the oversampled dataset. Still it ends training after only ~30 epochs and this is an indication that a smaller learning rate could help along with other tweaks that one can try."
   ]
  },
  {
   "cell_type": "markdown",
   "id": "d3af4741-b3ac-4c44-b952-7a4dc89a9416",
   "metadata": {},
   "source": [
    "### Fine tuning"
   ]
  },
  {
   "cell_type": "markdown",
   "id": "8ec3dacb-544d-439b-b956-db97dead90f2",
   "metadata": {},
   "source": [
    "The next thing to do is to change the paramters space to find the best configuration of the network. This can be done with `keras-tuner` that works similarly to RandomSearch in scikit-learn; `keras-tuner` also implements additional algorithms to search the parameters space that help optimize the run, a notable one is the Bayesian Optimizer. \\\n",
    "For this task, it makes sense to focus only on the best performing dataset, which is the oversampled one. \\\n",
    "The parameters I'll tune are the number of nodes in the Dense layers, the dropout ratio and the learning rate."
   ]
  },
  {
   "cell_type": "code",
   "execution_count": 21,
   "id": "17b372f0-a582-4d4a-bfff-32ebba49bb26",
   "metadata": {
    "tags": []
   },
   "outputs": [],
   "source": [
    "def build_model(hp):\n",
    "    model = keras.Sequential()\n",
    "    model.add(Dense(units=hp.Int('units', min_value=64, max_value=512, step=32),activation='relu',))\n",
    "    model.add(Dropout(rate=hp.Float('rate', min_value=.2, max_value=.5, step=.1)))\n",
    "    model.add(Dense(units=hp.Int('units', min_value=64, max_value=512, step=32),activation='relu',))\n",
    "    model.add(Dropout(rate=hp.Float('rate', min_value=.2, max_value=.5, step=.1)))\n",
    "    model.add(Dense(units=hp.Int('units', min_value=64, max_value=512, step=32),activation='relu',))\n",
    "    model.add(Dropout(rate=hp.Float('rate', min_value=.2, max_value=.5, step=.1)))\n",
    "    model.add(Dense(1, activation='sigmoid'))\n",
    "    learning_rate = hp.Float('lr', min_value=1e-4, max_value=1e-2, sampling='log')\n",
    "    metrics = ['acc', Precision(name='precision'), Recall(name='recall'), ]\n",
    "    model.compile(optimizer=Adam(learning_rate=learning_rate), loss='binary_crossentropy', metrics=metrics)\n",
    "    return model\n",
    "\n",
    "build_model(keras_tuner.HyperParameters());"
   ]
  },
  {
   "cell_type": "code",
   "execution_count": 22,
   "id": "01f811bd-cf65-4c20-9d34-55e38500b43f",
   "metadata": {
    "tags": []
   },
   "outputs": [],
   "source": [
    "tuner = keras_tuner.BayesianOptimization(\n",
    "    hypermodel=build_model,\n",
    "    objective='val_loss',\n",
    "    max_trials=50,\n",
    "    executions_per_trial=1,\n",
    "    overwrite=True,\n",
    ")"
   ]
  },
  {
   "cell_type": "code",
   "execution_count": 23,
   "id": "6d53e871-c880-4d01-9ce8-b2b7e029925c",
   "metadata": {
    "tags": []
   },
   "outputs": [],
   "source": [
    "callbacks=[EarlyStopping(monitor='val_loss', patience=10), TensorBoard(LOGS_DIR)]"
   ]
  },
  {
   "cell_type": "code",
   "execution_count": 24,
   "id": "79651d8d-5f53-43fe-87c1-c15e1b21ef5a",
   "metadata": {
    "tags": []
   },
   "outputs": [
    {
     "name": "stdout",
     "output_type": "stream",
     "text": [
      "Trial 50 Complete [00h 00m 07s]\n",
      "val_loss: 0.20134766399860382\n",
      "\n",
      "Best val_loss So Far: 0.16647298634052277\n",
      "Total elapsed time: 00h 06m 37s\n",
      "INFO:tensorflow:Oracle triggered exit\n",
      "CPU times: user 19min 35s, sys: 2min 20s, total: 21min 56s\n",
      "Wall time: 6min 36s\n"
     ]
    }
   ],
   "source": [
    "%%time\n",
    "tuner.search(\n",
    "    X_train_sm, \n",
    "    y_train_sm, \n",
    "    epochs=100, \n",
    "    batch_size=128,\n",
    "    validation_data=(X_cv_sm, y_cv_sm), \n",
    "    callbacks=callbacks, \n",
    "    class_weight=class_weight\n",
    ")"
   ]
  },
  {
   "cell_type": "code",
   "execution_count": 25,
   "id": "19b85e91-4c20-4b46-a390-c6195dffa335",
   "metadata": {},
   "outputs": [
    {
     "name": "stdout",
     "output_type": "stream",
     "text": [
      "Results summary\n",
      "Results in ./untitled_project\n",
      "Showing 10 best trials\n",
      "Objective(name=\"val_loss\", direction=\"min\")\n",
      "\n",
      "Trial 17 summary\n",
      "Hyperparameters:\n",
      "units: 416\n",
      "rate: 0.4\n",
      "lr: 0.0009823079430437143\n",
      "Score: 0.16647298634052277\n",
      "\n",
      "Trial 45 summary\n",
      "Hyperparameters:\n",
      "units: 352\n",
      "rate: 0.30000000000000004\n",
      "lr: 0.0001927681074827024\n",
      "Score: 0.17248013615608215\n",
      "\n",
      "Trial 41 summary\n",
      "Hyperparameters:\n",
      "units: 352\n",
      "rate: 0.2\n",
      "lr: 0.0004549298027987531\n",
      "Score: 0.173091322183609\n",
      "\n",
      "Trial 43 summary\n",
      "Hyperparameters:\n",
      "units: 352\n",
      "rate: 0.30000000000000004\n",
      "lr: 0.0007242841285133227\n",
      "Score: 0.17317454516887665\n",
      "\n",
      "Trial 14 summary\n",
      "Hyperparameters:\n",
      "units: 352\n",
      "rate: 0.30000000000000004\n",
      "lr: 0.0015335299542959195\n",
      "Score: 0.1747128963470459\n",
      "\n",
      "Trial 46 summary\n",
      "Hyperparameters:\n",
      "units: 288\n",
      "rate: 0.4\n",
      "lr: 0.0004959159233310334\n",
      "Score: 0.17654474079608917\n",
      "\n",
      "Trial 26 summary\n",
      "Hyperparameters:\n",
      "units: 384\n",
      "rate: 0.4\n",
      "lr: 0.0020190074428835113\n",
      "Score: 0.17861728370189667\n",
      "\n",
      "Trial 38 summary\n",
      "Hyperparameters:\n",
      "units: 448\n",
      "rate: 0.4\n",
      "lr: 0.000988082328427805\n",
      "Score: 0.17864398658275604\n",
      "\n",
      "Trial 48 summary\n",
      "Hyperparameters:\n",
      "units: 416\n",
      "rate: 0.30000000000000004\n",
      "lr: 0.0009696424392220312\n",
      "Score: 0.17968779802322388\n",
      "\n",
      "Trial 35 summary\n",
      "Hyperparameters:\n",
      "units: 416\n",
      "rate: 0.30000000000000004\n",
      "lr: 0.0010502989205410241\n",
      "Score: 0.18005196750164032\n"
     ]
    }
   ],
   "source": [
    "tuner.results_summary()"
   ]
  },
  {
   "cell_type": "code",
   "execution_count": 26,
   "id": "0eac94f9-2dd9-4e66-9bbc-3788827b3312",
   "metadata": {
    "tags": []
   },
   "outputs": [],
   "source": [
    "# %tensorboard --logdir LOGS_DIR"
   ]
  },
  {
   "cell_type": "code",
   "execution_count": 27,
   "id": "af5d9024-982f-460e-b7ec-f8e52bfed88b",
   "metadata": {
    "tags": []
   },
   "outputs": [],
   "source": [
    "best_model = tuner.get_best_models()[0]"
   ]
  },
  {
   "cell_type": "code",
   "execution_count": 28,
   "id": "1384ff47-f5ec-46fb-a6b1-ec911e2184e1",
   "metadata": {
    "tags": []
   },
   "outputs": [
    {
     "name": "stdout",
     "output_type": "stream",
     "text": [
      "Model: \"sequential\"\n",
      "_________________________________________________________________\n",
      " Layer (type)                Output Shape              Param #   \n",
      "=================================================================\n",
      " dense (Dense)               (None, 416)               31200     \n",
      "                                                                 \n",
      " dropout (Dropout)           (None, 416)               0         \n",
      "                                                                 \n",
      " dense_1 (Dense)             (None, 416)               173472    \n",
      "                                                                 \n",
      " dropout_1 (Dropout)         (None, 416)               0         \n",
      "                                                                 \n",
      " dense_2 (Dense)             (None, 416)               173472    \n",
      "                                                                 \n",
      " dropout_2 (Dropout)         (None, 416)               0         \n",
      "                                                                 \n",
      " dense_3 (Dense)             (None, 1)                 417       \n",
      "                                                                 \n",
      "=================================================================\n",
      "Total params: 378,561\n",
      "Trainable params: 378,561\n",
      "Non-trainable params: 0\n",
      "_________________________________________________________________\n"
     ]
    }
   ],
   "source": [
    "best_model.build(input_shape=(None, X_train_sm.shape[-1]))\n",
    "best_model.summary()"
   ]
  },
  {
   "cell_type": "code",
   "execution_count": 29,
   "id": "1b0907b3-3498-4bab-b502-4fa1d61606ab",
   "metadata": {
    "tags": []
   },
   "outputs": [
    {
     "name": "stdout",
     "output_type": "stream",
     "text": [
      "36/36 [==============================] - 0s 2ms/step - loss: 0.1621 - acc: 0.9421 - precision: 0.9437 - recall: 0.9404\n"
     ]
    },
    {
     "data": {
      "text/plain": [
       "[0.1621016412973404, 0.942105233669281, 0.9436619877815247, 0.9403508901596069]"
      ]
     },
     "execution_count": 29,
     "metadata": {},
     "output_type": "execute_result"
    }
   ],
   "source": [
    "best_model.evaluate(X_test_sm, y_test_sm)"
   ]
  },
  {
   "cell_type": "code",
   "execution_count": 30,
   "id": "624804b4-842a-4de2-a3e1-30fa0abd4875",
   "metadata": {
    "tags": []
   },
   "outputs": [
    {
     "name": "stdout",
     "output_type": "stream",
     "text": [
      "36/36 [==============================] - 0s 2ms/step\n"
     ]
    }
   ],
   "source": [
    "y_pred_proba_sm = best_model.predict(X_test_sm)"
   ]
  },
  {
   "cell_type": "code",
   "execution_count": 31,
   "id": "04a1e829-c8d0-46a2-af35-cc9f26642851",
   "metadata": {},
   "outputs": [],
   "source": [
    "y_pred_sm = (y_pred_proba_sm.flatten() >= .5).astype(int)"
   ]
  },
  {
   "cell_type": "code",
   "execution_count": 32,
   "id": "281755ea-d801-4a5d-b0f1-4a0f654e4985",
   "metadata": {
    "tags": []
   },
   "outputs": [
    {
     "name": "stdout",
     "output_type": "stream",
     "text": [
      "Precision: 0.94\n",
      "F1-score: 0.94\n"
     ]
    }
   ],
   "source": [
    "print(f'Precision: {round(precision_score(y_test_sm, y_pred_sm), 2)}')\n",
    "print(f'F1-score: {round(f1_score(y_test_sm, y_pred_sm), 2)}') "
   ]
  },
  {
   "cell_type": "markdown",
   "id": "fa306a8f-601f-4250-bbf4-ddf3706973f7",
   "metadata": {},
   "source": [
    "#### Comment"
   ]
  },
  {
   "cell_type": "markdown",
   "id": "c8368544-eb46-468b-a28e-d9f170cbc082",
   "metadata": {},
   "source": [
    "Performing this fine tuning allowed to significantly increase the performance of the network reducing the loss of the initial trial by almost 70%, which can be done to further extent by increasing the number of trials, testing a diffenent number of layers, or performing a new search in a space near the best model parameters found."
   ]
  }
 ],
 "metadata": {
  "kernelspec": {
   "display_name": "Python 3 (ipykernel)",
   "language": "python",
   "name": "python3"
  },
  "language_info": {
   "codemirror_mode": {
    "name": "ipython",
    "version": 3
   },
   "file_extension": ".py",
   "mimetype": "text/x-python",
   "name": "python",
   "nbconvert_exporter": "python",
   "pygments_lexer": "ipython3",
   "version": "3.10.7"
  }
 },
 "nbformat": 4,
 "nbformat_minor": 5
}
