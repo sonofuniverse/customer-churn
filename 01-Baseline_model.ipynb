{
 "cells": [
  {
   "cell_type": "markdown",
   "id": "d463e1c5-4e58-4487-acef-e0bcb2cf3c1a",
   "metadata": {},
   "source": [
    "### Imports"
   ]
  },
  {
   "cell_type": "code",
   "execution_count": 1,
   "id": "0ff7f1e9-8f11-459f-af8e-468393fc0436",
   "metadata": {
    "tags": []
   },
   "outputs": [],
   "source": [
    "import pandas as pd\n",
    "import matplotlib.pyplot as plt\n",
    "import seaborn as sns\n",
    "from sklearn.model_selection import train_test_split\n",
    "from sklearn.ensemble import HistGradientBoostingClassifier\n",
    "from sklearn.metrics import precision_score, f1_score, confusion_matrix, classification_report\n",
    "import warnings\n",
    "\n",
    "pd.set_option('display.max_columns', None)\n",
    "warnings.simplefilter('ignore')\n",
    "seed = 42"
   ]
  },
  {
   "cell_type": "markdown",
   "id": "c58d5c18-2793-4bb2-b882-d9ef120be907",
   "metadata": {},
   "source": [
    "### Baseline model"
   ]
  },
  {
   "cell_type": "markdown",
   "id": "90215271-2776-4120-9e61-0d8a1f56e9cd",
   "metadata": {},
   "source": [
    "I want to make a simple and fast model to be used as a reference when trying different techniques. For this case I use a Gradient Boosting Classifier because it generally performs well on a variety of tasks without the need to further process the data or dive into more complex tuning. \\\n",
    "This is supposed just to be a baseline."
   ]
  },
  {
   "cell_type": "code",
   "execution_count": 2,
   "id": "0a28f557-66ea-41c4-bc5e-055f89240d31",
   "metadata": {
    "tags": []
   },
   "outputs": [],
   "source": [
    "data = pd.read_csv('data/base_dataset.csv')"
   ]
  },
  {
   "cell_type": "code",
   "execution_count": 3,
   "id": "bda20c0a-423a-4dc9-88e4-db9acbb6cc16",
   "metadata": {
    "tags": []
   },
   "outputs": [
    {
     "data": {
      "text/plain": [
       "(3333, 68)"
      ]
     },
     "execution_count": 3,
     "metadata": {},
     "output_type": "execute_result"
    }
   ],
   "source": [
    "data.shape"
   ]
  },
  {
   "cell_type": "code",
   "execution_count": 4,
   "id": "f388c45a-2861-4d3b-bb26-ffc08e372933",
   "metadata": {
    "tags": []
   },
   "outputs": [],
   "source": [
    "X = data.drop('Churn', axis=1)\n",
    "y = data['Churn']"
   ]
  },
  {
   "cell_type": "code",
   "execution_count": 5,
   "id": "55f59b14-c2e3-4189-955f-0d79f0b9096a",
   "metadata": {
    "tags": []
   },
   "outputs": [],
   "source": [
    "X_train, X_test, y_train, y_test = train_test_split(X, y, test_size=.2, random_state=seed, stratify=y)"
   ]
  },
  {
   "cell_type": "code",
   "execution_count": 6,
   "id": "626d5914-27bb-4729-b588-04e2c1561673",
   "metadata": {
    "tags": []
   },
   "outputs": [],
   "source": [
    "clf = HistGradientBoostingClassifier(validation_fraction=.2, class_weight='balanced', early_stopping=True, scoring='loss', random_state=seed)"
   ]
  },
  {
   "cell_type": "markdown",
   "id": "26c68070-ec2f-494e-b402-fa4bad78974c",
   "metadata": {},
   "source": [
    "I've defined the model to use a 20% cross validation sample for training and automatically apply weights to balance the classes, that is simply achieved by setting the weight as the inverse of the class population."
   ]
  },
  {
   "cell_type": "code",
   "execution_count": 7,
   "id": "4f537486-77d8-4640-b87a-3bd8ec338da9",
   "metadata": {
    "tags": []
   },
   "outputs": [
    {
     "name": "stdout",
     "output_type": "stream",
     "text": [
      "CPU times: user 2.46 s, sys: 98 ms, total: 2.56 s\n",
      "Wall time: 178 ms\n"
     ]
    },
    {
     "data": {
      "text/html": [
       "<style>#sk-container-id-1 {color: black;background-color: white;}#sk-container-id-1 pre{padding: 0;}#sk-container-id-1 div.sk-toggleable {background-color: white;}#sk-container-id-1 label.sk-toggleable__label {cursor: pointer;display: block;width: 100%;margin-bottom: 0;padding: 0.3em;box-sizing: border-box;text-align: center;}#sk-container-id-1 label.sk-toggleable__label-arrow:before {content: \"▸\";float: left;margin-right: 0.25em;color: #696969;}#sk-container-id-1 label.sk-toggleable__label-arrow:hover:before {color: black;}#sk-container-id-1 div.sk-estimator:hover label.sk-toggleable__label-arrow:before {color: black;}#sk-container-id-1 div.sk-toggleable__content {max-height: 0;max-width: 0;overflow: hidden;text-align: left;background-color: #f0f8ff;}#sk-container-id-1 div.sk-toggleable__content pre {margin: 0.2em;color: black;border-radius: 0.25em;background-color: #f0f8ff;}#sk-container-id-1 input.sk-toggleable__control:checked~div.sk-toggleable__content {max-height: 200px;max-width: 100%;overflow: auto;}#sk-container-id-1 input.sk-toggleable__control:checked~label.sk-toggleable__label-arrow:before {content: \"▾\";}#sk-container-id-1 div.sk-estimator input.sk-toggleable__control:checked~label.sk-toggleable__label {background-color: #d4ebff;}#sk-container-id-1 div.sk-label input.sk-toggleable__control:checked~label.sk-toggleable__label {background-color: #d4ebff;}#sk-container-id-1 input.sk-hidden--visually {border: 0;clip: rect(1px 1px 1px 1px);clip: rect(1px, 1px, 1px, 1px);height: 1px;margin: -1px;overflow: hidden;padding: 0;position: absolute;width: 1px;}#sk-container-id-1 div.sk-estimator {font-family: monospace;background-color: #f0f8ff;border: 1px dotted black;border-radius: 0.25em;box-sizing: border-box;margin-bottom: 0.5em;}#sk-container-id-1 div.sk-estimator:hover {background-color: #d4ebff;}#sk-container-id-1 div.sk-parallel-item::after {content: \"\";width: 100%;border-bottom: 1px solid gray;flex-grow: 1;}#sk-container-id-1 div.sk-label:hover label.sk-toggleable__label {background-color: #d4ebff;}#sk-container-id-1 div.sk-serial::before {content: \"\";position: absolute;border-left: 1px solid gray;box-sizing: border-box;top: 0;bottom: 0;left: 50%;z-index: 0;}#sk-container-id-1 div.sk-serial {display: flex;flex-direction: column;align-items: center;background-color: white;padding-right: 0.2em;padding-left: 0.2em;position: relative;}#sk-container-id-1 div.sk-item {position: relative;z-index: 1;}#sk-container-id-1 div.sk-parallel {display: flex;align-items: stretch;justify-content: center;background-color: white;position: relative;}#sk-container-id-1 div.sk-item::before, #sk-container-id-1 div.sk-parallel-item::before {content: \"\";position: absolute;border-left: 1px solid gray;box-sizing: border-box;top: 0;bottom: 0;left: 50%;z-index: -1;}#sk-container-id-1 div.sk-parallel-item {display: flex;flex-direction: column;z-index: 1;position: relative;background-color: white;}#sk-container-id-1 div.sk-parallel-item:first-child::after {align-self: flex-end;width: 50%;}#sk-container-id-1 div.sk-parallel-item:last-child::after {align-self: flex-start;width: 50%;}#sk-container-id-1 div.sk-parallel-item:only-child::after {width: 0;}#sk-container-id-1 div.sk-dashed-wrapped {border: 1px dashed gray;margin: 0 0.4em 0.5em 0.4em;box-sizing: border-box;padding-bottom: 0.4em;background-color: white;}#sk-container-id-1 div.sk-label label {font-family: monospace;font-weight: bold;display: inline-block;line-height: 1.2em;}#sk-container-id-1 div.sk-label-container {text-align: center;}#sk-container-id-1 div.sk-container {/* jupyter's `normalize.less` sets `[hidden] { display: none; }` but bootstrap.min.css set `[hidden] { display: none !important; }` so we also need the `!important` here to be able to override the default hidden behavior on the sphinx rendered scikit-learn.org. See: https://github.com/scikit-learn/scikit-learn/issues/21755 */display: inline-block !important;position: relative;}#sk-container-id-1 div.sk-text-repr-fallback {display: none;}</style><div id=\"sk-container-id-1\" class=\"sk-top-container\"><div class=\"sk-text-repr-fallback\"><pre>HistGradientBoostingClassifier(class_weight=&#x27;balanced&#x27;, early_stopping=True,\n",
       "                               random_state=42, validation_fraction=0.2)</pre><b>In a Jupyter environment, please rerun this cell to show the HTML representation or trust the notebook. <br />On GitHub, the HTML representation is unable to render, please try loading this page with nbviewer.org.</b></div><div class=\"sk-container\" hidden><div class=\"sk-item\"><div class=\"sk-estimator sk-toggleable\"><input class=\"sk-toggleable__control sk-hidden--visually\" id=\"sk-estimator-id-1\" type=\"checkbox\" checked><label for=\"sk-estimator-id-1\" class=\"sk-toggleable__label sk-toggleable__label-arrow\">HistGradientBoostingClassifier</label><div class=\"sk-toggleable__content\"><pre>HistGradientBoostingClassifier(class_weight=&#x27;balanced&#x27;, early_stopping=True,\n",
       "                               random_state=42, validation_fraction=0.2)</pre></div></div></div></div></div>"
      ],
      "text/plain": [
       "HistGradientBoostingClassifier(class_weight='balanced', early_stopping=True,\n",
       "                               random_state=42, validation_fraction=0.2)"
      ]
     },
     "execution_count": 7,
     "metadata": {},
     "output_type": "execute_result"
    }
   ],
   "source": [
    "%%time\n",
    "clf.fit(X_train, y_train)"
   ]
  },
  {
   "cell_type": "code",
   "execution_count": 8,
   "id": "f11c4d65-8059-4017-9d10-f436cdf2afe1",
   "metadata": {
    "tags": []
   },
   "outputs": [],
   "source": [
    "y_pred = clf.predict(X_test) "
   ]
  },
  {
   "cell_type": "code",
   "execution_count": 9,
   "id": "81820e42-4af3-4781-9adc-8b38f5b1e516",
   "metadata": {
    "tags": []
   },
   "outputs": [
    {
     "name": "stdout",
     "output_type": "stream",
     "text": [
      "              precision    recall  f1-score   support\n",
      "\n",
      "           0       0.97      0.96      0.97       570\n",
      "           1       0.80      0.80      0.80        97\n",
      "\n",
      "    accuracy                           0.94       667\n",
      "   macro avg       0.88      0.88      0.88       667\n",
      "weighted avg       0.94      0.94      0.94       667\n",
      "\n"
     ]
    }
   ],
   "source": [
    "print(classification_report(y_test, y_pred)) "
   ]
  },
  {
   "cell_type": "code",
   "execution_count": 10,
   "id": "086a7404-f2ce-46b7-a794-972977d86824",
   "metadata": {
    "tags": []
   },
   "outputs": [
    {
     "name": "stdout",
     "output_type": "stream",
     "text": [
      "Precision: 0.8\n",
      "F1-score: 0.8\n"
     ]
    }
   ],
   "source": [
    "print(f'Precision: {round(precision_score(y_test, y_pred), 2)}')\n",
    "print(f'F1-score: {round(f1_score(y_test, y_pred), 2)}') "
   ]
  },
  {
   "cell_type": "markdown",
   "id": "c8a1ce1e-e34e-42a9-bdc8-22e64e3aef06",
   "metadata": {},
   "source": [
    "### Baseline model on the oversampled dataset"
   ]
  },
  {
   "cell_type": "markdown",
   "id": "f18ef684-f80f-484d-ad39-b5ef6fbbbd9c",
   "metadata": {},
   "source": [
    "I want to assess the effectiveness of the resampling technique tested."
   ]
  },
  {
   "cell_type": "code",
   "execution_count": 11,
   "id": "6627dd54-e535-416d-8042-ecf2450e79f6",
   "metadata": {
    "tags": []
   },
   "outputs": [],
   "source": [
    "data_sm = pd.read_csv('data/base_dataset_smote.csv')"
   ]
  },
  {
   "cell_type": "code",
   "execution_count": 12,
   "id": "fcc06d04-a125-4f96-bf9c-4dde40509a49",
   "metadata": {
    "tags": []
   },
   "outputs": [
    {
     "data": {
      "text/plain": [
       "(5700, 68)"
      ]
     },
     "execution_count": 12,
     "metadata": {},
     "output_type": "execute_result"
    }
   ],
   "source": [
    "data_sm.shape"
   ]
  },
  {
   "cell_type": "code",
   "execution_count": 13,
   "id": "0350a8ec-6716-4800-a867-41fa94cf9038",
   "metadata": {
    "tags": []
   },
   "outputs": [],
   "source": [
    "X_sm = data_sm.drop('Churn', axis=1)\n",
    "y_sm = data_sm['Churn']"
   ]
  },
  {
   "cell_type": "code",
   "execution_count": 14,
   "id": "c5853769-9fb1-4aca-b410-e0323532e148",
   "metadata": {
    "tags": []
   },
   "outputs": [],
   "source": [
    "X_train_sm, X_test_sm, y_train_sm, y_test_sm = train_test_split(X_sm, y_sm, test_size=.2, random_state=seed, stratify=y_sm)"
   ]
  },
  {
   "cell_type": "code",
   "execution_count": 15,
   "id": "053ffb3d-8204-4086-bb11-0ebdf1b040fa",
   "metadata": {
    "tags": []
   },
   "outputs": [],
   "source": [
    "clf_sm = HistGradientBoostingClassifier(validation_fraction=.2, class_weight='balanced', early_stopping=True, scoring='loss', random_state=seed)"
   ]
  },
  {
   "cell_type": "code",
   "execution_count": 16,
   "id": "4147540b-ec99-4b75-8905-b31c98fab1bc",
   "metadata": {
    "tags": []
   },
   "outputs": [
    {
     "name": "stdout",
     "output_type": "stream",
     "text": [
      "CPU times: user 5.74 s, sys: 4.98 ms, total: 5.75 s\n",
      "Wall time: 381 ms\n"
     ]
    },
    {
     "data": {
      "text/html": [
       "<style>#sk-container-id-2 {color: black;background-color: white;}#sk-container-id-2 pre{padding: 0;}#sk-container-id-2 div.sk-toggleable {background-color: white;}#sk-container-id-2 label.sk-toggleable__label {cursor: pointer;display: block;width: 100%;margin-bottom: 0;padding: 0.3em;box-sizing: border-box;text-align: center;}#sk-container-id-2 label.sk-toggleable__label-arrow:before {content: \"▸\";float: left;margin-right: 0.25em;color: #696969;}#sk-container-id-2 label.sk-toggleable__label-arrow:hover:before {color: black;}#sk-container-id-2 div.sk-estimator:hover label.sk-toggleable__label-arrow:before {color: black;}#sk-container-id-2 div.sk-toggleable__content {max-height: 0;max-width: 0;overflow: hidden;text-align: left;background-color: #f0f8ff;}#sk-container-id-2 div.sk-toggleable__content pre {margin: 0.2em;color: black;border-radius: 0.25em;background-color: #f0f8ff;}#sk-container-id-2 input.sk-toggleable__control:checked~div.sk-toggleable__content {max-height: 200px;max-width: 100%;overflow: auto;}#sk-container-id-2 input.sk-toggleable__control:checked~label.sk-toggleable__label-arrow:before {content: \"▾\";}#sk-container-id-2 div.sk-estimator input.sk-toggleable__control:checked~label.sk-toggleable__label {background-color: #d4ebff;}#sk-container-id-2 div.sk-label input.sk-toggleable__control:checked~label.sk-toggleable__label {background-color: #d4ebff;}#sk-container-id-2 input.sk-hidden--visually {border: 0;clip: rect(1px 1px 1px 1px);clip: rect(1px, 1px, 1px, 1px);height: 1px;margin: -1px;overflow: hidden;padding: 0;position: absolute;width: 1px;}#sk-container-id-2 div.sk-estimator {font-family: monospace;background-color: #f0f8ff;border: 1px dotted black;border-radius: 0.25em;box-sizing: border-box;margin-bottom: 0.5em;}#sk-container-id-2 div.sk-estimator:hover {background-color: #d4ebff;}#sk-container-id-2 div.sk-parallel-item::after {content: \"\";width: 100%;border-bottom: 1px solid gray;flex-grow: 1;}#sk-container-id-2 div.sk-label:hover label.sk-toggleable__label {background-color: #d4ebff;}#sk-container-id-2 div.sk-serial::before {content: \"\";position: absolute;border-left: 1px solid gray;box-sizing: border-box;top: 0;bottom: 0;left: 50%;z-index: 0;}#sk-container-id-2 div.sk-serial {display: flex;flex-direction: column;align-items: center;background-color: white;padding-right: 0.2em;padding-left: 0.2em;position: relative;}#sk-container-id-2 div.sk-item {position: relative;z-index: 1;}#sk-container-id-2 div.sk-parallel {display: flex;align-items: stretch;justify-content: center;background-color: white;position: relative;}#sk-container-id-2 div.sk-item::before, #sk-container-id-2 div.sk-parallel-item::before {content: \"\";position: absolute;border-left: 1px solid gray;box-sizing: border-box;top: 0;bottom: 0;left: 50%;z-index: -1;}#sk-container-id-2 div.sk-parallel-item {display: flex;flex-direction: column;z-index: 1;position: relative;background-color: white;}#sk-container-id-2 div.sk-parallel-item:first-child::after {align-self: flex-end;width: 50%;}#sk-container-id-2 div.sk-parallel-item:last-child::after {align-self: flex-start;width: 50%;}#sk-container-id-2 div.sk-parallel-item:only-child::after {width: 0;}#sk-container-id-2 div.sk-dashed-wrapped {border: 1px dashed gray;margin: 0 0.4em 0.5em 0.4em;box-sizing: border-box;padding-bottom: 0.4em;background-color: white;}#sk-container-id-2 div.sk-label label {font-family: monospace;font-weight: bold;display: inline-block;line-height: 1.2em;}#sk-container-id-2 div.sk-label-container {text-align: center;}#sk-container-id-2 div.sk-container {/* jupyter's `normalize.less` sets `[hidden] { display: none; }` but bootstrap.min.css set `[hidden] { display: none !important; }` so we also need the `!important` here to be able to override the default hidden behavior on the sphinx rendered scikit-learn.org. See: https://github.com/scikit-learn/scikit-learn/issues/21755 */display: inline-block !important;position: relative;}#sk-container-id-2 div.sk-text-repr-fallback {display: none;}</style><div id=\"sk-container-id-2\" class=\"sk-top-container\"><div class=\"sk-text-repr-fallback\"><pre>HistGradientBoostingClassifier(class_weight=&#x27;balanced&#x27;, early_stopping=True,\n",
       "                               random_state=42, validation_fraction=0.2)</pre><b>In a Jupyter environment, please rerun this cell to show the HTML representation or trust the notebook. <br />On GitHub, the HTML representation is unable to render, please try loading this page with nbviewer.org.</b></div><div class=\"sk-container\" hidden><div class=\"sk-item\"><div class=\"sk-estimator sk-toggleable\"><input class=\"sk-toggleable__control sk-hidden--visually\" id=\"sk-estimator-id-2\" type=\"checkbox\" checked><label for=\"sk-estimator-id-2\" class=\"sk-toggleable__label sk-toggleable__label-arrow\">HistGradientBoostingClassifier</label><div class=\"sk-toggleable__content\"><pre>HistGradientBoostingClassifier(class_weight=&#x27;balanced&#x27;, early_stopping=True,\n",
       "                               random_state=42, validation_fraction=0.2)</pre></div></div></div></div></div>"
      ],
      "text/plain": [
       "HistGradientBoostingClassifier(class_weight='balanced', early_stopping=True,\n",
       "                               random_state=42, validation_fraction=0.2)"
      ]
     },
     "execution_count": 16,
     "metadata": {},
     "output_type": "execute_result"
    }
   ],
   "source": [
    "%%time\n",
    "clf_sm.fit(X_train_sm, y_train_sm)"
   ]
  },
  {
   "cell_type": "code",
   "execution_count": 17,
   "id": "93a7564c-dbb3-4a9e-81dd-aab4c38be624",
   "metadata": {
    "tags": []
   },
   "outputs": [],
   "source": [
    "y_pred_sm = clf_sm.predict(X_test_sm) "
   ]
  },
  {
   "cell_type": "code",
   "execution_count": 18,
   "id": "716e334f-3e03-48c4-b7d4-90e03c04b12a",
   "metadata": {
    "tags": []
   },
   "outputs": [
    {
     "name": "stdout",
     "output_type": "stream",
     "text": [
      "              precision    recall  f1-score   support\n",
      "\n",
      "           0       0.93      0.98      0.96       570\n",
      "           1       0.98      0.93      0.96       570\n",
      "\n",
      "    accuracy                           0.96      1140\n",
      "   macro avg       0.96      0.96      0.96      1140\n",
      "weighted avg       0.96      0.96      0.96      1140\n",
      "\n"
     ]
    }
   ],
   "source": [
    "print(classification_report(y_test_sm, y_pred_sm)) "
   ]
  },
  {
   "cell_type": "code",
   "execution_count": 19,
   "id": "a286e5f5-4f1a-4cc9-a48c-63be30d0c224",
   "metadata": {
    "tags": []
   },
   "outputs": [
    {
     "name": "stdout",
     "output_type": "stream",
     "text": [
      "Precision: 0.98\n",
      "F1-score: 0.96\n"
     ]
    }
   ],
   "source": [
    "print(f'Precision: {round(precision_score(y_test_sm, y_pred_sm), 2)}')\n",
    "print(f'F1-score: {round(f1_score(y_test_sm, y_pred_sm), 2)}') "
   ]
  },
  {
   "cell_type": "markdown",
   "id": "40725f74-5c4b-43c9-bbc7-a05cf742e308",
   "metadata": {},
   "source": [
    "### Comment"
   ]
  },
  {
   "cell_type": "markdown",
   "id": "63861a7e-6d78-4fc8-8dab-d7ea17a3179d",
   "metadata": {},
   "source": [
    "Oversampling with SMOTE proved to greatly improve the all-round performance of the model tested, without adding complexity. \\\n",
    "Additional tests could be made with other oversampling techniques, or by manually setting the class weights in the original case to give additional importance to the positive class. \\\n",
    "Given the reduced amount of total data, I'd avoid undersampling techniques because I don't want to lose pieces of information."
   ]
  }
 ],
 "metadata": {
  "kernelspec": {
   "display_name": "Python 3 (ipykernel)",
   "language": "python",
   "name": "python3"
  },
  "language_info": {
   "codemirror_mode": {
    "name": "ipython",
    "version": 3
   },
   "file_extension": ".py",
   "mimetype": "text/x-python",
   "name": "python",
   "nbconvert_exporter": "python",
   "pygments_lexer": "ipython3",
   "version": "3.10.7"
  }
 },
 "nbformat": 4,
 "nbformat_minor": 5
}
